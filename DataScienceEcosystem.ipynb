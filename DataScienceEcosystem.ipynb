{
 "cells": [
  {
   "cell_type": "markdown",
   "id": "f9f92b24",
   "metadata": {},
   "source": [
    "# Data Science Tools and Ecosystem"
   ]
  },
  {
   "cell_type": "markdown",
   "id": "e3028d9d",
   "metadata": {},
   "source": [
    "In this notebook, Data Science Tools and Ecosystem are summarized."
   ]
  },
  {
   "cell_type": "markdown",
   "id": "40b99588",
   "metadata": {},
   "source": [
    "# Objectives:\n",
    "* Python\n",
    "* SQL\n",
    "* R\n",
    "* Java\n",
    "* C/C++"
   ]
  },
  {
   "cell_type": "markdown",
   "id": "e53b64f5",
   "metadata": {},
   "source": [
    "##### Some of the popular languages that Data Scientists use are:\n",
    "1. Python\n",
    "2. Java\n",
    "3. R\n",
    "4. SQL\n",
    "5. Julia\n",
    "6. C/C++"
   ]
  },
  {
   "cell_type": "markdown",
   "id": "38b68e97",
   "metadata": {},
   "source": [
    "#### Some of the commonly used libraries used by Data Scientists include:\n",
    "1. TensorFlow\n",
    "2. NumPy\n",
    "3. SciPy\n",
    "4. Pandas\n",
    "5. Matplotlib\n",
    "6. Scrapy\n",
    "7. Keras"
   ]
  },
  {
   "cell_type": "markdown",
   "id": "6a38b613",
   "metadata": {},
   "source": [
    "| Data Science Tools|\n",
    "|--------------------|\n",
    "|Weka|\n",
    "|Hadoop|\n",
    "|TensorFlow|\n",
    "|Ggplot2|\n",
    "|R studio's|\n",
    "\n"
   ]
  },
  {
   "cell_type": "markdown",
   "id": "d6ac1263",
   "metadata": {},
   "source": [
    "### Below are a few examples of evaluating arithmetic expressions in Python"
   ]
  },
  {
   "cell_type": "code",
   "execution_count": 1,
   "id": "6ce12cb2",
   "metadata": {},
   "outputs": [
    {
     "data": {
      "text/plain": [
       "17"
      ]
     },
     "execution_count": 1,
     "metadata": {},
     "output_type": "execute_result"
    }
   ],
   "source": [
    "# This a simple arithmetic expression to mutiply then add integers\n",
    "(3*4)+5"
   ]
  },
  {
   "cell_type": "code",
   "execution_count": 2,
   "id": "90b96663",
   "metadata": {},
   "outputs": [
    {
     "name": "stdout",
     "output_type": "stream",
     "text": [
      "How many minutes need to convert? 200\n",
      "200 minutes converted to 3.33 hours.\n"
     ]
    }
   ],
   "source": [
    "# This will convert 200 minutes to hours by diving by 60\n",
    "Min = int(input(\"How many minutes need to convert? \"))\n",
    "Hours = Min / 60\n",
    "print(Min, \"minutes converted to %.2f\" %Hours, \"hours.\" )"
   ]
  },
  {
   "cell_type": "markdown",
   "id": "ba716b71",
   "metadata": {},
   "source": [
    "## Author \n",
    "***Khoa Phan***"
   ]
  }
 ],
 "metadata": {
  "kernelspec": {
   "display_name": "Python 3 (ipykernel)",
   "language": "python",
   "name": "python3"
  },
  "language_info": {
   "codemirror_mode": {
    "name": "ipython",
    "version": 3
   },
   "file_extension": ".py",
   "mimetype": "text/x-python",
   "name": "python",
   "nbconvert_exporter": "python",
   "pygments_lexer": "ipython3",
   "version": "3.9.13"
  }
 },
 "nbformat": 4,
 "nbformat_minor": 5
}
